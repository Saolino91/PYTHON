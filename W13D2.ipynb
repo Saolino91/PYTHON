{
 "cells": [
  {
   "cell_type": "code",
   "execution_count": 9,
   "id": "d630b57f-d172-41e0-a489-e72efbf87a60",
   "metadata": {},
   "outputs": [
    {
     "name": "stdout",
     "output_type": "stream",
     "text": [
      "E\n",
      "p\n",
      "i\n",
      "c\n",
      "o\n",
      "d\n",
      "e\n"
     ]
    }
   ],
   "source": [
    "nome_scuola = \"Epicode\" # Stampare ogni carattere della stringa, uno su ogni riga, utilizzando un costrutto while.\n",
    "indice = 0\n",
    "while indice < len(nome_scuola):\n",
    "    print(nome_scuola[indice])\n",
    "    indice += 1"
   ]
  },
  {
   "cell_type": "code",
   "execution_count": 11,
   "id": "e5c75454-2839-47a1-aed3-0d91f81398a8",
   "metadata": {},
   "outputs": [
    {
     "name": "stdout",
     "output_type": "stream",
     "text": [
      "0\n",
      "1\n",
      "2\n",
      "3\n",
      "4\n",
      "5\n",
      "6\n",
      "7\n",
      "8\n",
      "9\n",
      "10\n",
      "11\n",
      "12\n",
      "13\n",
      "14\n",
      "15\n",
      "16\n",
      "17\n",
      "18\n",
      "19\n",
      "20\n"
     ]
    }
   ],
   "source": [
    "numero = 0 # Stampare a video tutti i numeri da 0 a 20 utilizzando il costrutto while.\n",
    "while numero <= 20:\n",
    "    print(numero)\n",
    "    numero += 1"
   ]
  },
  {
   "cell_type": "code",
   "execution_count": 19,
   "id": "57d51389-0b6b-417f-817c-769d4824d557",
   "metadata": {},
   "outputs": [
    {
     "name": "stdout",
     "output_type": "stream",
     "text": [
      "2^0 = 1\n",
      "2^1 = 2\n",
      "2^2 = 4\n",
      "2^3 = 8\n",
      "2^4 = 16\n",
      "2^5 = 32\n",
      "2^6 = 64\n",
      "2^7 = 128\n",
      "2^8 = 256\n",
      "2^9 = 512\n"
     ]
    }
   ],
   "source": [
    "esponente = 0 #Calcolare e stampare tutte le prime 10 potenze di 2 (e.g., 2⁰, 2¹, 2², …) utilizzando un ciclo while.\n",
    "\n",
    "while esponente < 10:\n",
    "    potenza = 2 ** esponente\n",
    "    print(f\"2^{esponente} = {potenza}\")\n",
    "    esponente += 1"
   ]
  },
  {
   "cell_type": "code",
   "execution_count": 25,
   "id": "110c08a8-7466-4724-999e-1e40ae65d5a7",
   "metadata": {},
   "outputs": [
    {
     "name": "stdin",
     "output_type": "stream",
     "text": [
      "Inserire il numero di potenze 20\n"
     ]
    },
    {
     "name": "stdout",
     "output_type": "stream",
     "text": [
      "2^0 = 1\n",
      "2^1 = 2\n",
      "2^2 = 4\n",
      "2^3 = 8\n",
      "2^4 = 16\n",
      "2^5 = 32\n",
      "2^6 = 64\n",
      "2^7 = 128\n",
      "2^8 = 256\n",
      "2^9 = 512\n",
      "2^10 = 1024\n",
      "2^11 = 2048\n",
      "2^12 = 4096\n",
      "2^13 = 8192\n",
      "2^14 = 16384\n",
      "2^15 = 32768\n",
      "2^16 = 65536\n",
      "2^17 = 131072\n",
      "2^18 = 262144\n",
      "2^19 = 524288\n"
     ]
    }
   ],
   "source": [
    "n_potenze = int(input(\"Inserire il numero di potenze\"))\n",
    "esponente = 0\n",
    "\n",
    "while esponente < n_potenze:\n",
    "    potenza = 2 ** esponente\n",
    "    print(f\"2^{esponente} = {potenza}\")\n",
    "    esponente += 1"
   ]
  },
  {
   "cell_type": "code",
   "execution_count": 29,
   "id": "21bc8916-0eb5-43f0-aab2-f50b1eee86bb",
   "metadata": {},
   "outputs": [
    {
     "name": "stdout",
     "output_type": "stream",
     "text": [
      "2^0 = 1\n",
      "2^1 = 2\n",
      "2^2 = 4\n",
      "2^3 = 8\n",
      "2^4 = 16\n",
      "2^5 = 32\n",
      "2^6 = 64\n",
      "2^7 = 128\n",
      "2^8 = 256\n",
      "2^9 = 512\n",
      "2^10 = 1024\n",
      "2^11 = 2048\n",
      "2^12 = 4096\n",
      "2^13 = 8192\n",
      "2^14 = 16384\n"
     ]
    }
   ],
   "source": [
    "esponente = 0 # Calcolare e stampare tutte le potenze di 2 minori di 25000.\n",
    "\n",
    "while True:\n",
    "    potenza = 2 ** esponente\n",
    "    if potenza >= 25000:\n",
    "        break\n",
    "    print(f\"2^{esponente} = {potenza}\")\n",
    "    esponente += 1"
   ]
  },
  {
   "cell_type": "code",
   "execution_count": 43,
   "id": "a0db98bc-1a7d-4862-b825-e4bc73b0ea02",
   "metadata": {},
   "outputs": [
    {
     "name": "stdout",
     "output_type": "stream",
     "text": [
      "Stessa lunghezza\n"
     ]
    }
   ],
   "source": [
    "studenti = [\"Alex\", \"Bob\", \"Cindy\", \"Dan\", \"Emma\", \"Faith\", \"Grace\", \"Henry\"]\n",
    "corsi = [\"Cybersecurity\", \"Data Analyst\", \"Backend\", \"Frontend\", \"Data Analyst\", \"Backend\"]\n",
    "\n",
    "corsi.append(\"Frontend\") # aggiungo dati mancanti\n",
    "corsi.append(\"Cybersecurity\")\n",
    "\n",
    "if len(studenti) == len(corsi): #verifica se le liste hanno la stessa lunghezza\n",
    "    print(\"Stessa lunghezza\")\n",
    "else:\n",
    "    print(\"lunghezza diversa\")"
   ]
  },
  {
   "cell_type": "code",
   "execution_count": 44,
   "id": "12bd0310-3864-42c0-8439-a681ec2e7074",
   "metadata": {},
   "outputs": [
    {
     "name": "stdout",
     "output_type": "stream",
     "text": [
      "['Cybersecurity', 'Data Analyst', 'Backend', 'Frontend', 'Data Analyst', 'Backend', 'Frontend', 'Cybersecurity']\n"
     ]
    }
   ],
   "source": [
    "print(corsi) # stampo la nuova lista corsi"
   ]
  },
  {
   "cell_type": "code",
   "execution_count": 102,
   "id": "132248fb-6124-4cf3-a507-66d7c237b205",
   "metadata": {},
   "outputs": [
    {
     "name": "stdin",
     "output_type": "stream",
     "text": [
      "Inserisci qui la tua parola Samuele\n"
     ]
    },
    {
     "name": "stdout",
     "output_type": "stream",
     "text": [
      "Sam ... ele\n"
     ]
    }
   ],
   "source": [
    "stringa_inserita = str(input(\"Inserisci qui la tua parola\"))\n",
    "print(stringa_inserita[:3],\"...\", stringa_inserita[-3:])"
   ]
  },
  {
   "cell_type": "code",
   "execution_count": 112,
   "id": "0756494c-3a97-4b88-9bfa-11def3b40322",
   "metadata": {},
   "outputs": [
    {
     "name": "stdin",
     "output_type": "stream",
     "text": [
      "Scrivi qui il numero 123\n"
     ]
    },
    {
     "name": "stdout",
     "output_type": "stream",
     "text": [
      "Fattori: [3, 41]\n"
     ]
    }
   ],
   "source": [
    "numero = int(input(\"Scrivi qui il numero\")) # Memorizza e stampa tutti i fattori di un numero dato in input.\n",
    "fattori = []\n",
    "fattore_potenziale = 2\n",
    "\n",
    "while numero > 1:\n",
    "    while numero % fattore_potenziale == 0:\n",
    "        fattori.append(fattore_potenziale)\n",
    "        numero = numero / fattore_potenziale\n",
    "    fattore_potenziale += 1\n",
    "\n",
    "print(\"Fattori:\", fattori)"
   ]
  },
  {
   "cell_type": "code",
   "execution_count": 56,
   "id": "baeb68a5-379d-4d0b-aceb-3c27381dfb3c",
   "metadata": {},
   "outputs": [
    {
     "name": "stdout",
     "output_type": "stream",
     "text": [
      "E\n",
      "p\n",
      "i\n",
      "c\n",
      "o\n",
      "d\n",
      "e\n"
     ]
    }
   ],
   "source": [
    "nome_scuola = \"Epicode\" # Stampare ogni carattere della stringa, uno su ogni riga, utilizzando un costrutto for.\n",
    "\n",
    "for lettera in nome_scuola:\n",
    "    print(lettera)\n"
   ]
  },
  {
   "cell_type": "code",
   "execution_count": 58,
   "id": "8494829e-b0ea-4d96-9f8c-829dea1d2477",
   "metadata": {},
   "outputs": [
    {
     "name": "stdout",
     "output_type": "stream",
     "text": [
      "2^1 = 2\n",
      "2^2 = 4\n",
      "2^3 = 8\n",
      "2^4 = 16\n",
      "2^5 = 32\n",
      "2^6 = 64\n",
      "2^7 = 128\n",
      "2^8 = 256\n",
      "2^9 = 512\n",
      "2^10 = 1024\n"
     ]
    }
   ],
   "source": [
    "# Inizializzo la lista range_numerico per contenere i primi 10 numeri\n",
    "range_numerico = []  # init\n",
    "num = 1  # init\n",
    "\n",
    "# Utilizzo un ciclo while per popolare range_numerico con i primi 10 numeri\n",
    "while num <= 10:\n",
    "    range_numerico.append(num)\n",
    "    num += 1\n",
    "\n",
    "# Utilizzo un ciclo for per calcolare e stampare le prime 10 potenze di 2\n",
    "for esponente in range_numerico:\n",
    "    potenza = 2 ** esponente\n",
    "    print(f\"2^{esponente} = {potenza}\")\n"
   ]
  },
  {
   "cell_type": "code",
   "execution_count": 69,
   "id": "f92a0f0e-c00b-4251-a3ff-24ba5b1bc185",
   "metadata": {},
   "outputs": [
    {
     "name": "stdin",
     "output_type": "stream",
     "text": [
      "Inserire numero potenze 2\n",
      "inserire numero 3\n"
     ]
    },
    {
     "name": "stdout",
     "output_type": "stream",
     "text": [
      "Potenze: [1, 3, 9]\n"
     ]
    }
   ],
   "source": [
    "n_potenze = int(input(\"Inserire numero potenze\")) # Calcolare (ma non stampare) le prime N potenze di K\n",
    "numero = int(input(\"inserire numero\"))\n",
    "\n",
    "potenze = []\n",
    "i = 0\n",
    "while i <= n_potenze:\n",
    "    potenze.append(numero ** i)\n",
    "    i += 1\n",
    "\n",
    "print(\"Potenze:\", potenze)"
   ]
  },
  {
   "cell_type": "code",
   "execution_count": 68,
   "id": "022724b7-5cf8-4450-8e32-4b32eba92c72",
   "metadata": {},
   "outputs": [
    {
     "name": "stdin",
     "output_type": "stream",
     "text": [
      "Inserire numero potenze 2\n",
      "inserire numero 3\n"
     ]
    },
    {
     "name": "stdout",
     "output_type": "stream",
     "text": [
      "Potenze: [1, 3, 9]\n"
     ]
    }
   ],
   "source": [
    "n_potenze = int(input(\"Inserire numero potenze\")) #Calcolare (ma non stampare) le prime N potenze di K\n",
    "numero = int(input(\"inserire numero\"))\n",
    "\n",
    "potenze = []\n",
    "for i in range(0, n_potenze + 1):\n",
    "    potenze.append(numero ** i)\n",
    "\n",
    "print(\"Potenze:\", potenze)"
   ]
  },
  {
   "cell_type": "code",
   "execution_count": 72,
   "id": "ae5fce34-5feb-4d1e-adc9-5a47f4b0b4bd",
   "metadata": {},
   "outputs": [
    {
     "name": "stdout",
     "output_type": "stream",
     "text": [
      "Media:  70.0\n"
     ]
    }
   ],
   "source": [
    "guadagni = [100, 90, 70, 40, 50, 80, 90, 120, 80, 20, 50, 50] # usando un costrutto for, calcolare la media dei guadagni e stamparla a video\n",
    " \n",
    "for media_guadagno in guadagni:\n",
    "    media_guadagno = sum(guadagni) / len(guadagni)\n",
    "print(\"Media: \", media_guadagno)"
   ]
  },
  {
   "cell_type": "code",
   "execution_count": null,
   "id": "4ad05911-4d7d-4e81-b6b2-c4e52a99edfd",
   "metadata": {},
   "outputs": [],
   "source": [
    "parole = [\"Albergo\", \"Sedia\", \"Borgo\", \"Petalo\", \"Eremo\", \"Belvedere\", \"Semestre\", \"Esteta\", \"Sosta\", \"Orpello\", \"Abete\", \"Orologio\", \"Cesta\", \"Ermellino\"] # stampiamo, per ogni parola, quante volte appare la lettera \"e\"\n",
    "\n",
    "for parola in parole:\n",
    "    conteggio_e = parola.lower().count(\"e\")\n",
    "    print(f\"{parola}\n"
   ]
  },
  {
   "cell_type": "code",
   "execution_count": 75,
   "id": "ef35bfc8-d595-4325-83ea-0fde8e684f15",
   "metadata": {},
   "outputs": [
    {
     "name": "stdout",
     "output_type": "stream",
     "text": [
      "Dizionario completo: {'Ada': 'Punto', 'Ben': 'Multipla', 'Charlie': 'Golf', 'Debbie': '107'}\n",
      "L'auto di Debbie: 107\n"
     ]
    }
   ],
   "source": [
    "proprietari_auto = {  # Stampiamo il dizionario per intero, e poi l'auto associata a Debbie.\n",
    "    \"Ada\": \"Punto\",\n",
    "    \"Ben\": \"Multipla\",\n",
    "    \"Charlie\": \"Golf\",\n",
    "    \"Debbie\": \"107\"\n",
    "}\n",
    "\n",
    "print(\"Dizionario completo:\", proprietari_auto)\n",
    "\n",
    "\n",
    "print(\"L'auto di Debbie:\", proprietari_auto[\"Debbie\"])\n"
   ]
  },
  {
   "cell_type": "code",
   "execution_count": 79,
   "id": "c932aee3-f538-4960-850f-de03bdf44298",
   "metadata": {},
   "outputs": [
    {
     "name": "stdout",
     "output_type": "stream",
     "text": [
      "Punto\n",
      "Golf\n",
      "107\n"
     ]
    }
   ],
   "source": [
    "for auto in proprietari_auto.values(): # Con un ciclo, e usando il metodo .values(), stampiamo a video tutte le auto che non sono una Multipla.\n",
    "    if auto != \"Multipla\":\n",
    "        print(auto)\n",
    "    "
   ]
  },
  {
   "cell_type": "code",
   "execution_count": 78,
   "id": "ae75fc33-932c-44b6-a000-2e2b97a07f45",
   "metadata": {},
   "outputs": [
    {
     "name": "stdout",
     "output_type": "stream",
     "text": [
      "Dizionario aggiornato: {'Ada': 'Punto', 'Ben': 'Polo', 'Charlie': 'Golf', 'Debbie': '107', 'Emily': 'A1', 'Fred': 'Octavia', 'Grace': 'Yaris', 'Hugh': 'Clio'}\n"
     ]
    }
   ],
   "source": [
    "dizionario_auto = {\"Ada\": \"Punto\", \"Ben\": \"Multipla\", \"Charlie\": \"Golf\", \"Debbie\": \"107\", \"Emily\": \"A1\"} # Aggiornare il dizionario dizionario_auto con i dati contenuti in nuovi_proprietari e stamparlo. Cosa è successo a Ben? Ben aveva una multipla ora ha una polonuovi_proprietari = {\"Ben\": \"Polo\", \"Fred\": \"Octavia\", \"Grace\": \"Yaris\", \"Hugh\": \"Clio\"}\n",
    "\n",
    "dizionario_auto.update(nuovi_proprietari)\n",
    "\n",
    "print(\"Dizionario aggiornato:\", dizionario_auto)"
   ]
  },
  {
   "cell_type": "code",
   "execution_count": 81,
   "id": "a6c5fbed-56ad-4be2-a77a-474acc134cd7",
   "metadata": {},
   "outputs": [
    {
     "name": "stdout",
     "output_type": "stream",
     "text": [
      "Min:4.2, Max: 57.4\n"
     ]
    }
   ],
   "source": [
    "lista_numeri = [4.2, 10.4, 24, 30, 4.9, 57, 57.4] # Esercizio Scrivere un programma che, data una lista di numeri, fornisca in output il minimo e il massimo (possiamo usare o meno le funzioni built-in min() e max()).\n",
    "\n",
    "minimo = min(lista_numeri)\n",
    "massimo = max(lista_numeri)\n",
    "\n",
    "print(f\"Min:{minimo}, Max: {massimo}\")"
   ]
  },
  {
   "cell_type": "code",
   "execution_count": 84,
   "id": "ca18554f-c16c-4e05-8745-60018748f414",
   "metadata": {},
   "outputs": [
    {
     "name": "stdout",
     "output_type": "stream",
     "text": [
      "[57.4, 57, 30]\n"
     ]
    }
   ],
   "source": [
    "lista_numeri = [4.2, 10.4, 24, 30, 4.9, 57, 57.4]\n",
    "numeri_ordinati = sorted(lista_numeri, reverse=True)\n",
    "\n",
    "if len(lista_numeri) < 3:\n",
    "    tre_piu_grandi = numeri_ordinati\n",
    "else:\n",
    "    tre_piu_grandi = []\n",
    "    for numero in numeri_ordinati:\n",
    "        if numero not in tre_piu_grandi:\n",
    "            tre_piu_grandi.append(numero)\n",
    "        if len(tre_piu_grandi) == 3:\n",
    "            break\n",
    "\n",
    "print(tre_piu_grandi)"
   ]
  },
  {
   "cell_type": "code",
   "execution_count": 93,
   "id": "03ef9e75-5c18-4047-bbfe-e8385410df86",
   "metadata": {},
   "outputs": [
    {
     "name": "stdin",
     "output_type": "stream",
     "text": [
      "Inserisci il valore 1:  1\n",
      "Inserisci il valore 2:  2\n",
      "Inserisci il valore 3:  3\n",
      "Inserisci il valore 4:  4\n",
      "Inserisci il valore 5:  5\n",
      "Inserisci il valore 6:  6\n",
      "Inserisci il valore 7:  7\n",
      "Inserisci il valore 8:  8\n",
      "Inserisci il valore 9:  9\n",
      "Inserisci il valore 10:  10\n"
     ]
    },
    {
     "name": "stdout",
     "output_type": "stream",
     "text": [
      "Input raccolti: [1, 2, 3, 4, 5, 6, 7, 8, 9, 10]\n"
     ]
    },
    {
     "name": "stdin",
     "output_type": "stream",
     "text": [
      "Inserisci il numero K: 4\n"
     ]
    },
    {
     "name": "stdout",
     "output_type": "stream",
     "text": [
      "Media numeri maggiori di 4: 7.0\n"
     ]
    }
   ],
   "source": [
    "input_utente = []\n",
    "for i in range(10):\n",
    "    valore = int(input(f\"Inserisci il valore {i+1}: \"))  #Scrivere un programma che • in input acquisisce una lista di numeri e un numero K • in output, dovrà restituire la media di tutti i numeri nella lista maggiori o uguali a K • se non ce ne dovesse essere nessuno, dovrà stampare a schermo un messaggio adeguato.\n",
    "    input_utente.append(valore)\n",
    "\n",
    "print(\"Input raccolti:\", input_utente)\n",
    "\n",
    "input_k = int(input(\"Inserisci il numero K:\"))\n",
    "\n",
    "numeri_filtrati = [numero for numero in input_utente if numero >= input_k]\n",
    "\n",
    "if numeri_filtrati:\n",
    "    media = sum(numeri_filtrati) / len(numeri_filtrati)\n",
    "    print(f\"Media numeri maggiori di {input_k}: {media}\")\n",
    "else:\n",
    "    print(f\"Non ci sono numeri maggiori di {input_k}\")\n"
   ]
  },
  {
   "cell_type": "code",
   "execution_count": 94,
   "id": "7cbf0350-61eb-4be5-9fdc-22d85732b349",
   "metadata": {},
   "outputs": [
    {
     "name": "stdin",
     "output_type": "stream",
     "text": [
      "Inserisci il valore 1:  1\n",
      "Inserisci il valore 2:  2\n",
      "Inserisci il valore 3:  3\n",
      "Inserisci il valore 4:  4\n",
      "Inserisci il valore 5:  5\n",
      "Inserisci il valore 6:  6\n",
      "Inserisci il valore 7:  7\n",
      "Inserisci il valore 8:  8\n",
      "Inserisci il valore 9:  9\n",
      "Inserisci il valore 10:  10\n"
     ]
    },
    {
     "name": "stdout",
     "output_type": "stream",
     "text": [
      "Input raccolti: [1, 2, 3, 4, 5, 6, 7, 8, 9, 10]\n",
      "*\n",
      "**\n",
      "***\n",
      "****\n",
      "*****\n",
      "******\n",
      "*******\n",
      "********\n",
      "*********\n",
      "**********\n"
     ]
    }
   ],
   "source": [
    "input_utente = []\n",
    "for i in range(10):\n",
    "    valore = int(input(f\"Inserisci il valore {i+1}: \")) # Scrivere un programma che, data una lista di numeri, come output stamperà lo stesso numero di asterischi su righe diverse, ottenendo una semplice visualizzazione grafica\n",
    "    input_utente.append(valore)\n",
    "\n",
    "print(\"Input raccolti:\", input_utente)\n",
    "\n",
    "for numero in input_utente:\n",
    "    print(\"*\" * numero)"
   ]
  },
  {
   "cell_type": "code",
   "execution_count": 98,
   "id": "7df19867-33ff-495a-8494-a1f8c1346104",
   "metadata": {},
   "outputs": [
    {
     "name": "stdout",
     "output_type": "stream",
     "text": [
      "CF: ABCDEF95G01A123B - Nome: ABC, Cognome: DEF\n",
      "CF: STUVWX95Z04A654E - Nome: STU, Cognome: VWX\n",
      "CF: DEFGHI95J06A987G - Nome: DEF, Cognome: GHI\n",
      "CF che contengono 95: ['ABCDEF95G01A123B', 'STUVWX95Z04A654E', 'DEFGHI95J06A987G']\n"
     ]
    }
   ],
   "source": [
    "lista_cf = [\"ABCDEF95G01A123B\", \"GHIJKL91M02A321C\", \"MNOPQR89S03A456D\", \"STUVWX95Z04A654E\", \"XYZABC01D05A789F\", \"DEFGHI95J06A987G\"] #trovare i codici fiscali che contengono \"95\", metterli in una lista, e alla fine stamparla;\n",
    "\n",
    "cf_95 = []\n",
    "\n",
    "for cf in lista_cf:\n",
    "    if \"95\" in cf:\n",
    "        cf_95.append(cf)\n",
    "        nome = cf[0:3]\n",
    "        cognome = cf[3:6]\n",
    "        print(f\"CF: {cf} - Nome: {nome}, Cognome: {cognome}\") # inoltre, per ognuno di essi, stampare a video i caratteri relativi al nome e quelli relativi al cognome.\n",
    "\n",
    "print(\"CF che contengono 95:\", cf_95)\n",
    "    \n"
   ]
  },
  {
   "cell_type": "code",
   "execution_count": 104,
   "id": "092efcf5-eb48-4ea2-8d33-0d8f77016826",
   "metadata": {},
   "outputs": [
    {
     "name": "stdout",
     "output_type": "stream",
     "text": [
      "Alex\n",
      "Faith\n"
     ]
    }
   ],
   "source": [
    "studenti = [\"Alex\", \"Bob\", \"Cindy\", \"Dan\", \"Emma\", \"Faith\", \"Grace\", \"Henry\"]\n",
    "corsi = [\"Cybersecurity\", \"Data Analyst\", \"Backend\", \"Frontend\", \"Data Analyst\", \"Backend\", \"Frontend\", \"Cybersecurity\"]\n",
    "edizioni = [1, 2, 3, 2, 2, 1, 3, 3]\n",
    "\n",
    "for i in range(len(studenti)):\n",
    "    if edizioni[i] == 1:\n",
    "        print(studenti[i])\n",
    "\n"
   ]
  },
  {
   "cell_type": "code",
   "execution_count": 106,
   "id": "89fcc075-957e-4fe8-be94-cf4eee6c8968",
   "metadata": {},
   "outputs": [
    {
     "name": "stdout",
     "output_type": "stream",
     "text": [
      "['100 $', '200 $', '500 $', '10 $', '50 $', '70 $']\n"
     ]
    }
   ],
   "source": [
    "prezzi = [\"100 €\", \"200 €\", \"500 €\", \"10 €\", \"50 €\", \"70 €\"] # ambiare il simbolo dell'euro (€) in quello del dollaro ($)\n",
    "\n",
    "prezzi_dollari = []\n",
    "\n",
    "for prezzo in prezzi:\n",
    "    prezzo_dollari = prezzo.replace(\"€\", \"$\")\n",
    "    prezzi_dollari.append(prezzo_dollari)\n",
    "\n",
    "print(prezzi_dollari)"
   ]
  },
  {
   "cell_type": "code",
   "execution_count": 109,
   "id": "5007276e-add4-48fd-a1cd-0b75ddf5fe71",
   "metadata": {},
   "outputs": [
    {
     "name": "stdout",
     "output_type": "stream",
     "text": [
      "Squadra pari: ['Alex', 'Cindy', 'Emma', 'Grace', 'Isabelle']\n",
      "Squadra dispari: ['Bob', 'Dan', 'Faith', 'Henry', 'John']\n"
     ]
    }
   ],
   "source": [
    "studenti = [\"Alex\", \"Bob\", \"Cindy\", \"Dan\", \"Emma\", \"Faith\", \"Grace\", \"Henry\", \"Isabelle\", \"John\"] #  dividere gli studenti in due squadre per un campionato di Uno nel seguente modo: selezioneremo i nomi in posizione pari per un squadra, e i nomi in posizione dispari per l'altra.\n",
    "\n",
    "pari = []\n",
    "dispari = []\n",
    "\n",
    "for studente in range(len(studenti)):\n",
    "    if studente % 2 == 0:\n",
    "        pari.append(studenti[studente])\n",
    "    else:\n",
    "        dispari.append(studenti[studente])\n",
    "\n",
    "print(\"Squadra pari:\", pari)\n",
    "print(\"Squadra dispari:\", dispari)\n",
    "    \n",
    "    "
   ]
  },
  {
   "cell_type": "code",
   "execution_count": 115,
   "id": "a39acdb4-af09-41d3-8f04-7d7f23e60204",
   "metadata": {},
   "outputs": [
    {
     "name": "stdout",
     "output_type": "stream",
     "text": [
      "Mese 1: 100 €\n",
      "Mese 2: 90 € (media prec: 100.00 € - il guadagno è minore)\n",
      "Mese 3: 70 € (media prec: 95.00 € - il guadagno è minore)\n",
      "Mese 4: 40 € (media prec: 86.67 € - il guadagno è minore)\n",
      "Mese 5: 50 € (media prec: 75.00 € - il guadagno è minore)\n",
      "Mese 6: 80 € (media prec: 70.00 € - il guadagno è maggiore)\n",
      "Mese 7: 90 € (media prec: 71.67 € - il guadagno è maggiore)\n",
      "Mese 8: 120 € (media prec: 74.29 € - il guadagno è maggiore)\n",
      "Mese 9: 80 € (media prec: 80.00 € - il guadagno è minore)\n",
      "Mese 10: 20 € (media prec: 80.00 € - il guadagno è minore)\n",
      "Mese 11: 50 € (media prec: 74.00 € - il guadagno è minore)\n",
      "Mese 12: 50 € (media prec: 71.82 € - il guadagno è minore)\n"
     ]
    }
   ],
   "source": [
    "guadagni = [100, 90, 70, 40, 50, 80, 90, 120, 80, 20, 50, 50] # dobbiamo confrontare, stampando tutto a video, il guadagno di ogni mese con la media dei guadagni precedenti, e specificare nell'output se il guadagno attuale è maggiore o minore della media dei precedenti.\n",
    "\n",
    "for i in range(len(guadagni)):\n",
    "    if i == 0:  \n",
    "        print(f\"Mese {i+1}: {guadagni[i]} €\")\n",
    "    else:\n",
    "        media_prec = sum(guadagni[:i]) / i  \n",
    "        if guadagni[i] > media_prec:\n",
    "            confronto = \"maggiore\"\n",
    "        else:\n",
    "            confronto = \"minore\"\n",
    "        print(f\"Mese {i+1}: {guadagni[i]} € (media prec: {media_prec:.2f} € - il guadagno è {confronto})\")\n"
   ]
  },
  {
   "cell_type": "code",
   "execution_count": null,
   "id": "3b42cb65-1b2b-4ac8-947a-ccbbd356a970",
   "metadata": {},
   "outputs": [],
   "source": []
  }
 ],
 "metadata": {
  "kernelspec": {
   "display_name": "Python 3 (ipykernel)",
   "language": "python",
   "name": "python3"
  },
  "language_info": {
   "codemirror_mode": {
    "name": "ipython",
    "version": 3
   },
   "file_extension": ".py",
   "mimetype": "text/x-python",
   "name": "python",
   "nbconvert_exporter": "python",
   "pygments_lexer": "ipython3",
   "version": "3.11.7"
  }
 },
 "nbformat": 4,
 "nbformat_minor": 5
}
