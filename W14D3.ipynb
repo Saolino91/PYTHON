{
 "cells": [
  {
   "cell_type": "code",
   "execution_count": 6,
   "id": "dcb9255d-2f4b-4368-950d-ef55bf1e11fa",
   "metadata": {},
   "outputs": [],
   "source": [
    "import pandas as pd # Rappresenta un array bidimensionale"
   ]
  },
  {
   "cell_type": "code",
   "execution_count": 3,
   "id": "ed128591-0228-4ca2-a910-4165036d67a4",
   "metadata": {},
   "outputs": [],
   "source": [
    "mat = [[0, 1, 2, 3, 4],\n",
    "       [5, 6, 7, 8, 9],\n",
    "       [10, 11, 12, 13, 14]]"
   ]
  },
  {
   "cell_type": "code",
   "execution_count": 8,
   "id": "413cd159-f435-4d79-9b81-3cdbb3586861",
   "metadata": {},
   "outputs": [],
   "source": [
    "df = pd.DataFrame(mat)"
   ]
  },
  {
   "cell_type": "code",
   "execution_count": 10,
   "id": "ef649749-0b8f-40e1-a9fc-137e7e9b0e7b",
   "metadata": {},
   "outputs": [
    {
     "data": {
      "text/html": [
       "<div>\n",
       "<style scoped>\n",
       "    .dataframe tbody tr th:only-of-type {\n",
       "        vertical-align: middle;\n",
       "    }\n",
       "\n",
       "    .dataframe tbody tr th {\n",
       "        vertical-align: top;\n",
       "    }\n",
       "\n",
       "    .dataframe thead th {\n",
       "        text-align: right;\n",
       "    }\n",
       "</style>\n",
       "<table border=\"1\" class=\"dataframe\">\n",
       "  <thead>\n",
       "    <tr style=\"text-align: right;\">\n",
       "      <th></th>\n",
       "      <th>0</th>\n",
       "      <th>1</th>\n",
       "      <th>2</th>\n",
       "      <th>3</th>\n",
       "      <th>4</th>\n",
       "    </tr>\n",
       "  </thead>\n",
       "  <tbody>\n",
       "    <tr>\n",
       "      <th>0</th>\n",
       "      <td>0</td>\n",
       "      <td>1</td>\n",
       "      <td>2</td>\n",
       "      <td>3</td>\n",
       "      <td>4</td>\n",
       "    </tr>\n",
       "    <tr>\n",
       "      <th>1</th>\n",
       "      <td>5</td>\n",
       "      <td>6</td>\n",
       "      <td>7</td>\n",
       "      <td>8</td>\n",
       "      <td>9</td>\n",
       "    </tr>\n",
       "    <tr>\n",
       "      <th>2</th>\n",
       "      <td>10</td>\n",
       "      <td>11</td>\n",
       "      <td>12</td>\n",
       "      <td>13</td>\n",
       "      <td>14</td>\n",
       "    </tr>\n",
       "  </tbody>\n",
       "</table>\n",
       "</div>"
      ],
      "text/plain": [
       "    0   1   2   3   4\n",
       "0   0   1   2   3   4\n",
       "1   5   6   7   8   9\n",
       "2  10  11  12  13  14"
      ]
     },
     "execution_count": 10,
     "metadata": {},
     "output_type": "execute_result"
    }
   ],
   "source": [
    "df"
   ]
  },
  {
   "cell_type": "code",
   "execution_count": 19,
   "id": "c91aac9e-92c8-4d94-8d93-da27864367bb",
   "metadata": {},
   "outputs": [],
   "source": [
    "elemento_particolare = df.at[1, 2] #trovare un elemento particolare all'interno dell'array bidimensionale"
   ]
  },
  {
   "cell_type": "code",
   "execution_count": 17,
   "id": "d436f9e4-6664-4d10-8968-693ecff75678",
   "metadata": {},
   "outputs": [
    {
     "data": {
      "text/plain": [
       "7"
      ]
     },
     "execution_count": 17,
     "metadata": {},
     "output_type": "execute_result"
    }
   ],
   "source": [
    "elemento_particolare"
   ]
  },
  {
   "cell_type": "code",
   "execution_count": 20,
   "id": "e00eb09f-f02e-4adf-acf5-90578adf5664",
   "metadata": {},
   "outputs": [],
   "source": [
    "import math"
   ]
  },
  {
   "cell_type": "code",
   "execution_count": 21,
   "id": "c68d1dbe-00d3-4758-a8cc-757f99b7c542",
   "metadata": {},
   "outputs": [],
   "source": [
    "int = 36"
   ]
  },
  {
   "cell_type": "code",
   "execution_count": 25,
   "id": "ceaf64df-f380-4a36-852a-b9105d0c3f3b",
   "metadata": {},
   "outputs": [
    {
     "data": {
      "text/plain": [
       "-0.9917788534431158"
      ]
     },
     "execution_count": 25,
     "metadata": {},
     "output_type": "execute_result"
    }
   ],
   "source": [
    "math.sin(int) #Seno"
   ]
  },
  {
   "cell_type": "code",
   "execution_count": 24,
   "id": "a6a98233-d2f6-4f95-a10e-26af18a8b44c",
   "metadata": {},
   "outputs": [
    {
     "data": {
      "text/plain": [
       "-0.12796368962740468"
      ]
     },
     "execution_count": 24,
     "metadata": {},
     "output_type": "execute_result"
    }
   ],
   "source": [
    "math.cos(int) #Coseno"
   ]
  },
  {
   "cell_type": "code",
   "execution_count": 33,
   "id": "ef3e1395-da1f-405c-9401-7daf23e2af01",
   "metadata": {},
   "outputs": [
    {
     "data": {
      "text/plain": [
       "371993326789901217467999448150835200000000"
      ]
     },
     "execution_count": 33,
     "metadata": {},
     "output_type": "execute_result"
    }
   ],
   "source": [
    "math.factorial(int) #Fattore"
   ]
  },
  {
   "cell_type": "code",
   "execution_count": 35,
   "id": "f4cf9fa8-33ad-46f0-8d20-a41201e7a50b",
   "metadata": {},
   "outputs": [
    {
     "data": {
      "text/plain": [
       "3.141592653589793"
      ]
     },
     "execution_count": 35,
     "metadata": {},
     "output_type": "execute_result"
    }
   ],
   "source": [
    "math.pi #Pi Greco"
   ]
  },
  {
   "cell_type": "code",
   "execution_count": 40,
   "id": "956f8747-734d-4883-a2fa-58160408c3c3",
   "metadata": {},
   "outputs": [
    {
     "data": {
      "text/plain": [
       "180.0"
      ]
     },
     "execution_count": 40,
     "metadata": {},
     "output_type": "execute_result"
    }
   ],
   "source": [
    "math.degrees(math.pi) # Converito in gradi, PiGreco = 180°"
   ]
  },
  {
   "cell_type": "code",
   "execution_count": 39,
   "id": "81234d5c-32b2-4f1b-921a-798d140e46f8",
   "metadata": {},
   "outputs": [
    {
     "name": "stdout",
     "output_type": "stream",
     "text": [
      "Help on built-in function degrees in module math:\n",
      "\n",
      "degrees(x, /)\n",
      "    Convert angle x from radians to degrees.\n",
      "\n"
     ]
    }
   ],
   "source": [
    "help(math.degrees)"
   ]
  },
  {
   "cell_type": "code",
   "execution_count": 68,
   "id": "88ee5a00-eca2-4ecf-afec-241e5e90289b",
   "metadata": {},
   "outputs": [],
   "source": [
    "import numpy as np #importo numpy"
   ]
  },
  {
   "cell_type": "code",
   "execution_count": 45,
   "id": "dd6e3ea2-c7d2-40bb-8eb4-59ad70898c91",
   "metadata": {},
   "outputs": [],
   "source": [
    "lst = [2000, 5500, 7200, 4320, 1280, 1900,\n",
    "       2500, 3900, 6410, 8150, 7100, 5350]"
   ]
  },
  {
   "cell_type": "code",
   "execution_count": 69,
   "id": "08ad97d1-f667-40b7-aad6-f49188125b24",
   "metadata": {},
   "outputs": [],
   "source": [
    "vendite = np.array(lst) #creo un array di lst"
   ]
  },
  {
   "cell_type": "code",
   "execution_count": 70,
   "id": "b25b39cf-91c1-43b4-868c-e713d251f2ec",
   "metadata": {},
   "outputs": [],
   "source": [
    "vendita_massima = vendite.max() #valore massimo"
   ]
  },
  {
   "cell_type": "code",
   "execution_count": 51,
   "id": "5a8ed1db-89d0-4eb6-8a3f-1144c0d6d67f",
   "metadata": {},
   "outputs": [
    {
     "data": {
      "text/plain": [
       "8150"
      ]
     },
     "execution_count": 51,
     "metadata": {},
     "output_type": "execute_result"
    }
   ],
   "source": [
    "vendita_massima"
   ]
  },
  {
   "cell_type": "code",
   "execution_count": 71,
   "id": "211e248d-8497-431e-8863-eb079bea9ed2",
   "metadata": {},
   "outputs": [],
   "source": [
    "vendita_minima = vendite.min() #valori minimo"
   ]
  },
  {
   "cell_type": "code",
   "execution_count": 53,
   "id": "47a1b7bc-0bd1-40e4-a645-ecd58b48ef14",
   "metadata": {},
   "outputs": [
    {
     "data": {
      "text/plain": [
       "1280"
      ]
     },
     "execution_count": 53,
     "metadata": {},
     "output_type": "execute_result"
    }
   ],
   "source": [
    "vendita_minima"
   ]
  },
  {
   "cell_type": "code",
   "execution_count": 72,
   "id": "54140cfc-160f-4f98-ab1c-c781012f64ee",
   "metadata": {},
   "outputs": [],
   "source": [
    "vendite_maggiori_4999 = vendite[vendite > 4999] #vendite maggiori di 4999\n",
    "numero_vendite_maggiori_4999 = len(vendite_maggiori_4999)"
   ]
  },
  {
   "cell_type": "code",
   "execution_count": 58,
   "id": "711ccd4b-2745-4329-84de-df977a5fb4fd",
   "metadata": {},
   "outputs": [
    {
     "data": {
      "text/plain": [
       "6"
      ]
     },
     "execution_count": 58,
     "metadata": {},
     "output_type": "execute_result"
    }
   ],
   "source": [
    "numero_vendite_maggiori_4999"
   ]
  },
  {
   "cell_type": "code",
   "execution_count": 73,
   "id": "287003af-287f-4fbc-b2fe-31d2a2fea7eb",
   "metadata": {},
   "outputs": [],
   "source": [
    "vendite_minori_3000 = vendite[vendite < 3000] #vendite minori di 3000"
   ]
  },
  {
   "cell_type": "code",
   "execution_count": 63,
   "id": "7448ef30-4cd0-4445-abed-c371207b9c99",
   "metadata": {},
   "outputs": [
    {
     "data": {
      "text/plain": [
       "array([2000, 1280, 1900, 2500])"
      ]
     },
     "execution_count": 63,
     "metadata": {},
     "output_type": "execute_result"
    }
   ],
   "source": [
    "vendite_minori_3000"
   ]
  },
  {
   "cell_type": "code",
   "execution_count": 75,
   "id": "29ed7b5b-3756-4662-857c-eefb0b1c9722",
   "metadata": {},
   "outputs": [],
   "source": [
    "media_vendite = vendite.mean() #media vendite mensili minori di 3000"
   ]
  },
  {
   "cell_type": "code",
   "execution_count": 66,
   "id": "f0351208-f3f6-476b-9db7-e759339881c6",
   "metadata": {},
   "outputs": [
    {
     "data": {
      "text/plain": [
       "4634.166666666667"
      ]
     },
     "execution_count": 66,
     "metadata": {},
     "output_type": "execute_result"
    }
   ],
   "source": [
    "media_vendite"
   ]
  },
  {
   "cell_type": "code",
   "execution_count": 77,
   "id": "f521d8bf-63b0-4cc8-81f2-5fcad0e36a61",
   "metadata": {},
   "outputs": [],
   "source": [
    "fatturati_dict = {1997: 12_000, 1998: 15_000, #il dizionario memorizza dati tramite chiavi univoche\n",
    "                  1999: 20_000, 2000: 23_000, 2001: 25_000,\n",
    "                  2002: 17_000, 2003: 14_000, 2004: 21_000}"
   ]
  },
  {
   "cell_type": "code",
   "execution_count": 81,
   "id": "b6ad3dc9-f332-4231-ad9e-84975aed2574",
   "metadata": {},
   "outputs": [],
   "source": [
    "fatturati_series = pd.Series([12_000, 15_000, 20_000, #La series di panda funziiona come una array unidimensionale\n",
    "                              23_000, 25_000, 17_000, 14_000, 21_000],\n",
    "                             index=range(1997, 2005))"
   ]
  },
  {
   "cell_type": "code",
   "execution_count": 79,
   "id": "7e01c2ba-4423-4bbe-b359-8fd9a2c9b5ca",
   "metadata": {},
   "outputs": [
    {
     "data": {
      "text/plain": [
       "12000"
      ]
     },
     "execution_count": 79,
     "metadata": {},
     "output_type": "execute_result"
    }
   ],
   "source": [
    "fatturati_dict[1997]"
   ]
  },
  {
   "cell_type": "code",
   "execution_count": 80,
   "id": "18b9bee6-c6f9-4399-821f-f179ccd8f5bf",
   "metadata": {},
   "outputs": [
    {
     "data": {
      "text/plain": [
       "12000"
      ]
     },
     "execution_count": 80,
     "metadata": {},
     "output_type": "execute_result"
    }
   ],
   "source": [
    "fatturati_series[1997]"
   ]
  },
  {
   "cell_type": "code",
   "execution_count": 82,
   "id": "d4f04dc0-baa4-497b-a988-79bdedaefd3e",
   "metadata": {},
   "outputs": [],
   "source": [
    "# con la series è possibile effettuare operazioni vettoriali, funzioni statistiche, gestione dati mancanti, slicing, allineamento automatico dei dati"
   ]
  },
  {
   "cell_type": "code",
   "execution_count": 86,
   "id": "bbfb85d5-1dd5-4bac-a68c-b752be1d0a02",
   "metadata": {},
   "outputs": [],
   "source": [
    "import numpy as np \n",
    "stipendi = np.array( [100, 200, 300, 400, 500,\n",
    "                      600, 700, 800, 900, 1000] )"
   ]
  },
  {
   "cell_type": "code",
   "execution_count": 93,
   "id": "17a02926-47db-4aee-893f-95c98642b992",
   "metadata": {},
   "outputs": [],
   "source": [
    "stipendi_raddoppiati = np.array([stipendio * 2 for stipendio in stipendi]) # ciclo for"
   ]
  },
  {
   "cell_type": "code",
   "execution_count": 88,
   "id": "5a71086a-628a-41b2-96f7-2265b3634d38",
   "metadata": {},
   "outputs": [
    {
     "data": {
      "text/plain": [
       "array([ 200,  400,  600,  800, 1000, 1200, 1400, 1600, 1800, 2000])"
      ]
     },
     "execution_count": 88,
     "metadata": {},
     "output_type": "execute_result"
    }
   ],
   "source": [
    "stipendi_raddoppiati"
   ]
  },
  {
   "cell_type": "code",
   "execution_count": 94,
   "id": "66ba4660-b5c6-45fc-b66c-533ebfbed9ea",
   "metadata": {},
   "outputs": [],
   "source": [
    "stipendi_raddoppiati2 = stipendi * 2 #masking"
   ]
  },
  {
   "cell_type": "code",
   "execution_count": 92,
   "id": "298c047f-ac06-4e2a-9fe5-f65cac287d35",
   "metadata": {},
   "outputs": [
    {
     "data": {
      "text/plain": [
       "array([ 200,  400,  600,  800, 1000, 1200, 1400, 1600, 1800, 2000])"
      ]
     },
     "execution_count": 92,
     "metadata": {},
     "output_type": "execute_result"
    }
   ],
   "source": [
    "stipendi_raddoppiati2"
   ]
  },
  {
   "cell_type": "code",
   "execution_count": null,
   "id": "16cd1f1a-e8a5-4108-bba2-94e0f280cff8",
   "metadata": {},
   "outputs": [],
   "source": []
  }
 ],
 "metadata": {
  "kernelspec": {
   "display_name": "Python 3 (ipykernel)",
   "language": "python",
   "name": "python3"
  },
  "language_info": {
   "codemirror_mode": {
    "name": "ipython",
    "version": 3
   },
   "file_extension": ".py",
   "mimetype": "text/x-python",
   "name": "python",
   "nbconvert_exporter": "python",
   "pygments_lexer": "ipython3",
   "version": "3.11.7"
  }
 },
 "nbformat": 4,
 "nbformat_minor": 5
}
