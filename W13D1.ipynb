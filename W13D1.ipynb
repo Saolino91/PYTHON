{
 "cells": [
  {
   "cell_type": "code",
   "execution_count": 1,
   "id": "e9b11fad-a5fc-41b0-962e-04a046257cf6",
   "metadata": {},
   "outputs": [],
   "source": [
    "# Acquistare stanck distributore: 1) Esamina codice snack 2) verificare prezzo 3) avere soldi e metodo di pagamento adeguato 4) inserire soldi 5) scegliere snack 6) attendere distribuzione snack 7) prendere lo snack una volta che è stato rilasciato"
   ]
  },
  {
   "cell_type": "code",
   "execution_count": 5,
   "id": "25c75b57-456b-4b6c-b6a4-b8d4b51dc66d",
   "metadata": {},
   "outputs": [],
   "source": [
    "# Riempire serbatoio auto: 1) avvicinarsi con serbatoio al lato della pompa 2) spegnere e stazionare in sicurezza il mezzo 2) scendere 3) andare al Totem 4) inserire contanti o altro metodo di pagamento 5) verificare la pompa dove ci siamo messi 6) selezionare la pompa \n",
    "# 7) aprire tappo 8) prendere postola del carburante giusta 9) rifornire 10) appogiare pistola 11) chiudere tappo 12) prendere ricevuta 13) ripartire"
   ]
  },
  {
   "cell_type": "code",
   "execution_count": 6,
   "id": "2f9e5fd0-61d3-4efc-a53a-54496190903c",
   "metadata": {},
   "outputs": [],
   "source": [
    "#Riscaldare un piatto pronto: 1) prendo alimento 2) leggo istruzioni di cottura a microonde 3) apro alimento 4) apro microonde 5) inserisco alimento 6) imposto cottura speificata nelle istruzioni 7) chiudo sportello 8) faccio partire la cottura 9) attendere fino alla fine del timer\n",
    "# 10) apro sportello 11) se crudo ritorno al punto 6 se cotto proseguo al punto 12) metto nel piatto 13) mangio"
   ]
  },
  {
   "cell_type": "code",
   "execution_count": 10,
   "id": "6b65d074-c6c3-4db1-bf8d-d0ef2c36dea6",
   "metadata": {},
   "outputs": [],
   "source": [
    "studenti_iniziali = 25"
   ]
  },
  {
   "cell_type": "code",
   "execution_count": 11,
   "id": "91a3d57e-0241-4945-bf18-79b2aa345fa4",
   "metadata": {},
   "outputs": [
    {
     "name": "stdout",
     "output_type": "stream",
     "text": [
      "25\n"
     ]
    }
   ],
   "source": [
    "print(studenti_iniziali)"
   ]
  },
  {
   "cell_type": "code",
   "execution_count": 9,
   "id": "f09081c8-5eb0-4f6d-b333-185279f7b261",
   "metadata": {},
   "outputs": [],
   "source": [
    "nuovi_studenti = 3"
   ]
  },
  {
   "cell_type": "code",
   "execution_count": 12,
   "id": "361eed89-79f2-4136-a5f7-0d70e10f0b64",
   "metadata": {},
   "outputs": [],
   "source": [
    "tot_studenti = studenti_iniziali + nuovi_studenti"
   ]
  },
  {
   "cell_type": "code",
   "execution_count": 13,
   "id": "af292ec1-98b1-4f4c-be5b-0521a30ea7d4",
   "metadata": {},
   "outputs": [
    {
     "name": "stdout",
     "output_type": "stream",
     "text": [
      "28\n"
     ]
    }
   ],
   "source": [
    "print(tot_studenti)"
   ]
  },
  {
   "cell_type": "code",
   "execution_count": 16,
   "id": "3de48060-5dda-448c-a94b-8388111feeb6",
   "metadata": {},
   "outputs": [],
   "source": [
    "corso = \"Epicode\""
   ]
  },
  {
   "cell_type": "code",
   "execution_count": 65,
   "id": "d5172b3e-481c-4f8a-bc41-fe597d3c4760",
   "metadata": {},
   "outputs": [],
   "source": [
    "x = 10 # metodo 1"
   ]
  },
  {
   "cell_type": "code",
   "execution_count": 17,
   "id": "4649d554-27f8-4aa3-b166-945887256333",
   "metadata": {},
   "outputs": [],
   "source": [
    "x = x + 2"
   ]
  },
  {
   "cell_type": "code",
   "execution_count": 18,
   "id": "c2ab8218-aee7-4e42-ba43-74ad3e95bfbb",
   "metadata": {},
   "outputs": [],
   "source": [
    "x = x * 3"
   ]
  },
  {
   "cell_type": "code",
   "execution_count": 19,
   "id": "550d4d36-9350-4262-81e0-2d572503c37f",
   "metadata": {},
   "outputs": [
    {
     "name": "stdout",
     "output_type": "stream",
     "text": [
      "36\n"
     ]
    }
   ],
   "source": [
    "print(x)"
   ]
  },
  {
   "cell_type": "code",
   "execution_count": 66,
   "id": "80eff87e-5ed3-492a-879d-7e8e68eba6df",
   "metadata": {},
   "outputs": [],
   "source": [
    "x = 10 # metodo 2"
   ]
  },
  {
   "cell_type": "code",
   "execution_count": 28,
   "id": "c0b1540a-6fc4-41ca-9308-b89025fa725c",
   "metadata": {},
   "outputs": [],
   "source": [
    "x += 2"
   ]
  },
  {
   "cell_type": "code",
   "execution_count": 30,
   "id": "ec91e82d-c0c4-4408-b238-7b520b34a669",
   "metadata": {},
   "outputs": [],
   "source": [
    "x *= 3"
   ]
  },
  {
   "cell_type": "code",
   "execution_count": 31,
   "id": "c74f9946-93aa-46d2-845a-c5536f9bbeed",
   "metadata": {},
   "outputs": [
    {
     "name": "stdout",
     "output_type": "stream",
     "text": [
      "36\n"
     ]
    }
   ],
   "source": [
    "print(x)"
   ]
  },
  {
   "cell_type": "code",
   "execution_count": 32,
   "id": "6de8e45b-05a3-4651-ad8e-63fa3c3d19d7",
   "metadata": {},
   "outputs": [],
   "source": [
    "str1 = \"Windows\""
   ]
  },
  {
   "cell_type": "code",
   "execution_count": 35,
   "id": "be60bc37-9e45-4635-8dc3-15b5d61fdbc7",
   "metadata": {},
   "outputs": [
    {
     "data": {
      "text/plain": [
       "7"
      ]
     },
     "execution_count": 35,
     "metadata": {},
     "output_type": "execute_result"
    }
   ],
   "source": [
    "len(str1)"
   ]
  },
  {
   "cell_type": "code",
   "execution_count": 36,
   "id": "6ff6097d-fba5-4c25-a617-2a7c2c1f4f18",
   "metadata": {},
   "outputs": [],
   "source": [
    "str2 = \"Excel\""
   ]
  },
  {
   "cell_type": "code",
   "execution_count": 37,
   "id": "fb2112a7-d334-4ecb-ade9-610d813a171a",
   "metadata": {},
   "outputs": [
    {
     "data": {
      "text/plain": [
       "5"
      ]
     },
     "execution_count": 37,
     "metadata": {},
     "output_type": "execute_result"
    }
   ],
   "source": [
    "len(str2)"
   ]
  },
  {
   "cell_type": "code",
   "execution_count": 38,
   "id": "151c3183-1b4f-4c52-8500-6c85c09a411a",
   "metadata": {},
   "outputs": [],
   "source": [
    "str3 = \"Powerpoint\""
   ]
  },
  {
   "cell_type": "code",
   "execution_count": 39,
   "id": "7592c4bf-bf6f-44a4-a2ff-108c8c92842b",
   "metadata": {},
   "outputs": [
    {
     "data": {
      "text/plain": [
       "10"
      ]
     },
     "execution_count": 39,
     "metadata": {},
     "output_type": "execute_result"
    }
   ],
   "source": [
    "len(str3)"
   ]
  },
  {
   "cell_type": "code",
   "execution_count": 40,
   "id": "42ea1192-d3ad-4a00-9851-37fae546873e",
   "metadata": {},
   "outputs": [],
   "source": [
    "str4 = \"Word\""
   ]
  },
  {
   "cell_type": "code",
   "execution_count": 41,
   "id": "3bcf217a-0f27-49b6-823a-8ea9b280d2b0",
   "metadata": {},
   "outputs": [
    {
     "data": {
      "text/plain": [
       "4"
      ]
     },
     "execution_count": 41,
     "metadata": {},
     "output_type": "execute_result"
    }
   ],
   "source": [
    "len(str4)"
   ]
  },
  {
   "cell_type": "code",
   "execution_count": 67,
   "id": "2636e30d-4033-4a21-89e8-977963bffce0",
   "metadata": {},
   "outputs": [],
   "source": [
    "Anno = 365 #calcolare secondi in un anno non bisesto"
   ]
  },
  {
   "cell_type": "code",
   "execution_count": 43,
   "id": "3584979b-61ef-4a41-97b2-aa614c3915b1",
   "metadata": {},
   "outputs": [],
   "source": [
    "giorno = 24"
   ]
  },
  {
   "cell_type": "code",
   "execution_count": 44,
   "id": "253ccdc8-cf21-4ed5-b957-e3aadb1a3e63",
   "metadata": {},
   "outputs": [],
   "source": [
    "ora = 60"
   ]
  },
  {
   "cell_type": "code",
   "execution_count": 45,
   "id": "b863943f-7d1f-43cc-b7cc-abd9a9461b3c",
   "metadata": {},
   "outputs": [],
   "source": [
    "minuto = 60"
   ]
  },
  {
   "cell_type": "code",
   "execution_count": 50,
   "id": "1d05f38c-59c3-4676-8dfb-9e78834b90d6",
   "metadata": {},
   "outputs": [],
   "source": [
    "Secondi = Anno * giorno * ora * minuto"
   ]
  },
  {
   "cell_type": "code",
   "execution_count": 51,
   "id": "54a52b4d-cda8-444f-b064-afc799391efc",
   "metadata": {},
   "outputs": [
    {
     "name": "stdout",
     "output_type": "stream",
     "text": [
      "31536000\n"
     ]
    }
   ],
   "source": [
    "print(Secondi)"
   ]
  },
  {
   "cell_type": "code",
   "execution_count": 54,
   "id": "eeed1160-8e9b-46ef-ab59-586098c4b2da",
   "metadata": {},
   "outputs": [],
   "source": [
    "my_string = \"I am studying Python\""
   ]
  },
  {
   "cell_type": "code",
   "execution_count": 57,
   "id": "9a17925f-359e-4b61-8982-38544fe81ad6",
   "metadata": {},
   "outputs": [
    {
     "data": {
      "text/plain": [
       "'i am studying python'"
      ]
     },
     "execution_count": 57,
     "metadata": {},
     "output_type": "execute_result"
    }
   ],
   "source": [
    "my_string.lower() #Trasformarla in modo che tutti i caratteri siano minuscoli (lowercase)"
   ]
  },
  {
   "cell_type": "code",
   "execution_count": 58,
   "id": "74644d8a-5d1e-4ddc-bdd1-7aa137ee6fd0",
   "metadata": {},
   "outputs": [
    {
     "data": {
      "text/plain": [
       "'I AM STUDYING PYTHON'"
      ]
     },
     "execution_count": 58,
     "metadata": {},
     "output_type": "execute_result"
    }
   ],
   "source": [
    "my_string.upper() #Trasformarla in modo che tutti i caratteri siano maiuscoli (uppercase)"
   ]
  },
  {
   "cell_type": "code",
   "execution_count": 62,
   "id": "0cecad1c-f3ca-49dc-9b5c-fb5e2451ba31",
   "metadata": {},
   "outputs": [
    {
     "data": {
      "text/plain": [
       "'I am studying a lot'"
      ]
     },
     "execution_count": 62,
     "metadata": {},
     "output_type": "execute_result"
    }
   ],
   "source": [
    "my_string.replace(\"Python\", \"a lot\") # Sostituire la sottostringa \"Python\" con la stringa \"a lot\""
   ]
  },
  {
   "cell_type": "code",
   "execution_count": 64,
   "id": "2ee25001-d58b-4113-87ad-d5d99f957c61",
   "metadata": {},
   "outputs": [
    {
     "data": {
      "text/plain": [
       "'I am studying Python'"
      ]
     },
     "execution_count": 64,
     "metadata": {},
     "output_type": "execute_result"
    }
   ],
   "source": [
    "my_string.strip()# Usare il metodo .strip(); cambia qualcosa? Perché? --> non cambia niente in quanto non sono presenti spazi vuoti all'inizio o alla fine"
   ]
  },
  {
   "cell_type": "code",
   "execution_count": null,
   "id": "d68fcbda-6da2-4a31-9fcd-092d36af99f2",
   "metadata": {},
   "outputs": [],
   "source": []
  }
 ],
 "metadata": {
  "kernelspec": {
   "display_name": "Python 3 (ipykernel)",
   "language": "python",
   "name": "python3"
  },
  "language_info": {
   "codemirror_mode": {
    "name": "ipython",
    "version": 3
   },
   "file_extension": ".py",
   "mimetype": "text/x-python",
   "name": "python",
   "nbconvert_exporter": "python",
   "pygments_lexer": "ipython3",
   "version": "3.11.7"
  }
 },
 "nbformat": 4,
 "nbformat_minor": 5
}
